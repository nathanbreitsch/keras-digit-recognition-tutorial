{
 "cells": [
  {
   "cell_type": "code",
   "execution_count": 1,
   "metadata": {},
   "outputs": [
    {
     "name": "stderr",
     "output_type": "stream",
     "text": [
      "Using TensorFlow backend.\n",
      "/opt/conda/lib/python3.6/importlib/_bootstrap.py:205: RuntimeWarning: compiletime version 3.5 of module 'tensorflow.python.framework.fast_tensor_util' does not match runtime version 3.6\n",
      "  return f(*args, **kwds)\n"
     ]
    }
   ],
   "source": [
    "import numpy as np\n",
    "import pandas as pd\n",
    "\n",
    "import keras\n",
    "from keras.layers import (InputLayer,\n",
    "                          Dense, \n",
    "                          Dropout, \n",
    "                          Flatten, \n",
    "                          Conv2D, \n",
    "                          MaxPooling2D, \n",
    "                          Reshape, \n",
    "                          BatchNormalization)\n",
    "\n",
    "from sklearn.preprocessing import OneHotEncoder\n",
    "from sklearn.model_selection import train_test_split\n",
    "\n",
    "from skimage.transform import resize\n",
    "\n",
    "from matplotlib import pyplot as plt\n",
    "%matplotlib inline\n"
   ]
  },
  {
   "cell_type": "markdown",
   "metadata": {},
   "source": [
    "# Data\n",
    "This dataset comes from the  [Digit Recognition Kaggle competition](https://www.kaggle.com/c/digit-recognizer)\n",
    "which is an ongoing practice competition for getting started with image learning.\n",
    "\n",
    "The data consists of 28x28 = 782 pixel values for a hand-written digit and a label (0-9) for the digit"
   ]
  },
  {
   "cell_type": "code",
   "execution_count": 2,
   "metadata": {},
   "outputs": [],
   "source": [
    "df = pd.read_csv('./data/train.csv.gz')"
   ]
  },
  {
   "cell_type": "code",
   "execution_count": 3,
   "metadata": {},
   "outputs": [
    {
     "data": {
      "text/html": [
       "<div>\n",
       "<style>\n",
       "    .dataframe thead tr:only-child th {\n",
       "        text-align: right;\n",
       "    }\n",
       "\n",
       "    .dataframe thead th {\n",
       "        text-align: left;\n",
       "    }\n",
       "\n",
       "    .dataframe tbody tr th {\n",
       "        vertical-align: top;\n",
       "    }\n",
       "</style>\n",
       "<table border=\"1\" class=\"dataframe\">\n",
       "  <thead>\n",
       "    <tr style=\"text-align: right;\">\n",
       "      <th></th>\n",
       "      <th>label</th>\n",
       "      <th>pixel0</th>\n",
       "      <th>pixel1</th>\n",
       "      <th>pixel2</th>\n",
       "      <th>pixel3</th>\n",
       "      <th>pixel4</th>\n",
       "      <th>pixel5</th>\n",
       "      <th>pixel6</th>\n",
       "      <th>pixel7</th>\n",
       "      <th>pixel8</th>\n",
       "      <th>...</th>\n",
       "      <th>pixel774</th>\n",
       "      <th>pixel775</th>\n",
       "      <th>pixel776</th>\n",
       "      <th>pixel777</th>\n",
       "      <th>pixel778</th>\n",
       "      <th>pixel779</th>\n",
       "      <th>pixel780</th>\n",
       "      <th>pixel781</th>\n",
       "      <th>pixel782</th>\n",
       "      <th>pixel783</th>\n",
       "    </tr>\n",
       "  </thead>\n",
       "  <tbody>\n",
       "    <tr>\n",
       "      <th>0</th>\n",
       "      <td>1</td>\n",
       "      <td>0</td>\n",
       "      <td>0</td>\n",
       "      <td>0</td>\n",
       "      <td>0</td>\n",
       "      <td>0</td>\n",
       "      <td>0</td>\n",
       "      <td>0</td>\n",
       "      <td>0</td>\n",
       "      <td>0</td>\n",
       "      <td>...</td>\n",
       "      <td>0</td>\n",
       "      <td>0</td>\n",
       "      <td>0</td>\n",
       "      <td>0</td>\n",
       "      <td>0</td>\n",
       "      <td>0</td>\n",
       "      <td>0</td>\n",
       "      <td>0</td>\n",
       "      <td>0</td>\n",
       "      <td>0</td>\n",
       "    </tr>\n",
       "    <tr>\n",
       "      <th>1</th>\n",
       "      <td>0</td>\n",
       "      <td>0</td>\n",
       "      <td>0</td>\n",
       "      <td>0</td>\n",
       "      <td>0</td>\n",
       "      <td>0</td>\n",
       "      <td>0</td>\n",
       "      <td>0</td>\n",
       "      <td>0</td>\n",
       "      <td>0</td>\n",
       "      <td>...</td>\n",
       "      <td>0</td>\n",
       "      <td>0</td>\n",
       "      <td>0</td>\n",
       "      <td>0</td>\n",
       "      <td>0</td>\n",
       "      <td>0</td>\n",
       "      <td>0</td>\n",
       "      <td>0</td>\n",
       "      <td>0</td>\n",
       "      <td>0</td>\n",
       "    </tr>\n",
       "    <tr>\n",
       "      <th>2</th>\n",
       "      <td>1</td>\n",
       "      <td>0</td>\n",
       "      <td>0</td>\n",
       "      <td>0</td>\n",
       "      <td>0</td>\n",
       "      <td>0</td>\n",
       "      <td>0</td>\n",
       "      <td>0</td>\n",
       "      <td>0</td>\n",
       "      <td>0</td>\n",
       "      <td>...</td>\n",
       "      <td>0</td>\n",
       "      <td>0</td>\n",
       "      <td>0</td>\n",
       "      <td>0</td>\n",
       "      <td>0</td>\n",
       "      <td>0</td>\n",
       "      <td>0</td>\n",
       "      <td>0</td>\n",
       "      <td>0</td>\n",
       "      <td>0</td>\n",
       "    </tr>\n",
       "    <tr>\n",
       "      <th>3</th>\n",
       "      <td>4</td>\n",
       "      <td>0</td>\n",
       "      <td>0</td>\n",
       "      <td>0</td>\n",
       "      <td>0</td>\n",
       "      <td>0</td>\n",
       "      <td>0</td>\n",
       "      <td>0</td>\n",
       "      <td>0</td>\n",
       "      <td>0</td>\n",
       "      <td>...</td>\n",
       "      <td>0</td>\n",
       "      <td>0</td>\n",
       "      <td>0</td>\n",
       "      <td>0</td>\n",
       "      <td>0</td>\n",
       "      <td>0</td>\n",
       "      <td>0</td>\n",
       "      <td>0</td>\n",
       "      <td>0</td>\n",
       "      <td>0</td>\n",
       "    </tr>\n",
       "    <tr>\n",
       "      <th>4</th>\n",
       "      <td>0</td>\n",
       "      <td>0</td>\n",
       "      <td>0</td>\n",
       "      <td>0</td>\n",
       "      <td>0</td>\n",
       "      <td>0</td>\n",
       "      <td>0</td>\n",
       "      <td>0</td>\n",
       "      <td>0</td>\n",
       "      <td>0</td>\n",
       "      <td>...</td>\n",
       "      <td>0</td>\n",
       "      <td>0</td>\n",
       "      <td>0</td>\n",
       "      <td>0</td>\n",
       "      <td>0</td>\n",
       "      <td>0</td>\n",
       "      <td>0</td>\n",
       "      <td>0</td>\n",
       "      <td>0</td>\n",
       "      <td>0</td>\n",
       "    </tr>\n",
       "  </tbody>\n",
       "</table>\n",
       "<p>5 rows × 785 columns</p>\n",
       "</div>"
      ],
      "text/plain": [
       "   label  pixel0  pixel1  pixel2  pixel3  pixel4  pixel5  pixel6  pixel7  \\\n",
       "0      1       0       0       0       0       0       0       0       0   \n",
       "1      0       0       0       0       0       0       0       0       0   \n",
       "2      1       0       0       0       0       0       0       0       0   \n",
       "3      4       0       0       0       0       0       0       0       0   \n",
       "4      0       0       0       0       0       0       0       0       0   \n",
       "\n",
       "   pixel8    ...     pixel774  pixel775  pixel776  pixel777  pixel778  \\\n",
       "0       0    ...            0         0         0         0         0   \n",
       "1       0    ...            0         0         0         0         0   \n",
       "2       0    ...            0         0         0         0         0   \n",
       "3       0    ...            0         0         0         0         0   \n",
       "4       0    ...            0         0         0         0         0   \n",
       "\n",
       "   pixel779  pixel780  pixel781  pixel782  pixel783  \n",
       "0         0         0         0         0         0  \n",
       "1         0         0         0         0         0  \n",
       "2         0         0         0         0         0  \n",
       "3         0         0         0         0         0  \n",
       "4         0         0         0         0         0  \n",
       "\n",
       "[5 rows x 785 columns]"
      ]
     },
     "execution_count": 3,
     "metadata": {},
     "output_type": "execute_result"
    }
   ],
   "source": [
    "df.head()"
   ]
  },
  {
   "cell_type": "markdown",
   "metadata": {},
   "source": [
    "# Tensors\n",
    "A useful conceptual model (and data structure) for image datasets is the n-dimensional array, a.k.a. tensor.\n",
    "There are muliple ways to represent our dataset as a tensor and different libraries will expect different representations.\n",
    "\n",
    "## As a two-dimensional array\n",
    "- Rows (axis 0) are images within the training batch\n",
    "- Columns (axis 1) are pixel values (grayscale) within an image\n",
    "\n",
    "This format is closest to the original dataset and is what we would use for logistic regression or a neural network with only dense layers"
   ]
  },
  {
   "cell_type": "code",
   "execution_count": 4,
   "metadata": {},
   "outputs": [
    {
     "name": "stdout",
     "output_type": "stream",
     "text": [
      "[[ 0.  0.  0. ...,  0.  0.  0.]\n",
      " [ 0.  0.  0. ...,  0.  0.  0.]\n",
      " [ 0.  0.  0. ...,  0.  0.  0.]\n",
      " ..., \n",
      " [ 0.  0.  0. ...,  0.  0.  0.]\n",
      " [ 0.  0.  0. ...,  0.  0.  0.]\n",
      " [ 0.  0.  0. ...,  0.  0.  0.]]\n",
      "(42000, 784)\n"
     ]
    }
   ],
   "source": [
    "images_2d = df.drop('label', axis=1).as_matrix() * 1/ 255\n",
    "print(images_2d)\n",
    "print(images_2d.shape)"
   ]
  },
  {
   "cell_type": "markdown",
   "metadata": {},
   "source": [
    "## As a three-dimensional array\n",
    "- Axis 0 indexes images within the training batch\n",
    "- Axis 1 indexes rows within an image\n",
    "- Axis 2 indexes pixel values (grayscale) within a row \n",
    "\n",
    "We use this format to plot images with matplotlib"
   ]
  },
  {
   "cell_type": "code",
   "execution_count": 5,
   "metadata": {},
   "outputs": [
    {
     "name": "stdout",
     "output_type": "stream",
     "text": [
      "(42000, 28, 28)\n"
     ]
    },
    {
     "data": {
      "text/plain": [
       "<matplotlib.image.AxesImage at 0x7f168eeb73c8>"
      ]
     },
     "execution_count": 5,
     "metadata": {},
     "output_type": "execute_result"
    },
    {
     "data": {
      "image/png": "[encoded data removed]",
      "text/plain": [
       "<matplotlib.figure.Figure at 0x7f16904e8dd8>"
      ]
     },
     "metadata": {},
     "output_type": "display_data"
    }
   ],
   "source": [
    "images_3d = images_2d.reshape((len(df), 28, 28))\n",
    "print(images_3d.shape)\n",
    "plt.imshow(images_3d[123], cmap='binary')"
   ]
  },
  {
   "cell_type": "markdown",
   "metadata": {},
   "source": [
    "## As a four-dimensional array\n",
    "- Axis 0 indexes images within the training batch\n",
    "- Axis 1 indexes rows within an image\n",
    "- Axis 2 indexes pixels within a row \n",
    "- Axis 3 represents chanels within a pixel\n",
    "    - Here, axis 3 has only 1 value since images are grayscale\n",
    "    - Axis 3 could have 3 values for red, green, blue\n",
    "    - Axis 3 could also have n values for intermediate tensors in a deep network\n",
    "\n",
    "When using tensorflow for deep learning on images, 4D arrays are the fundamental data structure."
   ]
  },
  {
   "cell_type": "code",
   "execution_count": 6,
   "metadata": {},
   "outputs": [
    {
     "name": "stdout",
     "output_type": "stream",
     "text": [
      "(42000, 28, 28, 1)\n"
     ]
    }
   ],
   "source": [
    "images_4d = images_2d.reshape((len(df), 28, 28, 1))\n",
    "print(images_4d.shape)"
   ]
  },
  {
   "cell_type": "code",
   "execution_count": 7,
   "metadata": {},
   "outputs": [],
   "source": [
    "labels = df['label'].as_matrix()\n",
    "train_x, test_x, train_y, test_y = train_test_split(images_4d, labels)"
   ]
  },
  {
   "cell_type": "markdown",
   "metadata": {},
   "source": [
    "# Challenge\n",
    "The following model achieves 91% accuracy using logistic regression\n",
    "``` python\n",
    "model = keras.models.Sequential([\n",
    "    InputLayer(input_shape=(28, 28, 1)), \n",
    "    Flatten(),\n",
    "    Dense(10, activation='softmax')\n",
    "])\n",
    "```\n",
    "\n",
    "Using the [Keras documentation](https://keras.io/layers/convolutional/) learn how \n",
    "the following layers work and get your accuracy as high as possible.  Bonus points if your solution can identify numbers in the sudoku puzzle.\n",
    "\n",
    "- [Dense](https://keras.io/layers/core/#dense)\n",
    "- [Dropout](https://keras.io/layers/core/#dropout)\n",
    "- [Flatten](https://keras.io/layers/core/#flatten)\n",
    "- [Conv2D](https://keras.io/layers/convolutional/#conv2d)\n",
    "- [MaxPooling2D](https://keras.io/layers/pooling/#maxpooling2d)\n",
    "- [Reshape](https://keras.io/layers/core/#reshape)\n",
    "- [BatchNormalization](https://keras.io/layers/normalization/#batchnormalization)"
   ]
  },
  {
   "cell_type": "markdown",
   "metadata": {},
   "source": [
    "You can use the following image for inspiration.  It shows the architecure for LeNet, one of the first successful solutions to this problem.\n",
    "\n",
    "## LeNet-5"
   ]
  },
  {
   "cell_type": "markdown",
   "metadata": {},
   "source": [
    "![](./static/lenet-architecture.png)"
   ]
  },
  {
   "cell_type": "code",
   "execution_count": 8,
   "metadata": {},
   "outputs": [
    {
     "name": "stdout",
     "output_type": "stream",
     "text": [
      "Train on 25200 samples, validate on 6300 samples\n",
      "Epoch 1/10\n",
      "25200/25200 [==============================] - 0s - loss: 1.1406 - acc: 0.7316 - val_loss: 0.6802 - val_acc: 0.8454\n",
      "Epoch 2/10\n",
      "25200/25200 [==============================] - 0s - loss: 0.5594 - acc: 0.8655 - val_loss: 0.4877 - val_acc: 0.8744\n",
      "Epoch 3/10\n",
      "25200/25200 [==============================] - 0s - loss: 0.4434 - acc: 0.8845 - val_loss: 0.4239 - val_acc: 0.8830\n",
      "Epoch 4/10\n",
      "25200/25200 [==============================] - 0s - loss: 0.3957 - acc: 0.8940 - val_loss: 0.3899 - val_acc: 0.8908\n",
      "Epoch 5/10\n",
      "25200/25200 [==============================] - 0s - loss: 0.3688 - acc: 0.9015 - val_loss: 0.3699 - val_acc: 0.8960\n",
      "Epoch 6/10\n",
      "25200/25200 [==============================] - 0s - loss: 0.3513 - acc: 0.9039 - val_loss: 0.3572 - val_acc: 0.8995\n",
      "Epoch 7/10\n",
      "25200/25200 [==============================] - 0s - loss: 0.3386 - acc: 0.9073 - val_loss: 0.3477 - val_acc: 0.9000\n",
      "Epoch 8/10\n",
      "25200/25200 [==============================] - 0s - loss: 0.3287 - acc: 0.9098 - val_loss: 0.3399 - val_acc: 0.9033\n",
      "Epoch 9/10\n",
      "25200/25200 [==============================] - 0s - loss: 0.3211 - acc: 0.9112 - val_loss: 0.3346 - val_acc: 0.9046\n",
      "Epoch 10/10\n",
      "25200/25200 [==============================] - 0s - loss: 0.3145 - acc: 0.9123 - val_loss: 0.3300 - val_acc: 0.9068\n"
     ]
    },
    {
     "data": {
      "text/plain": [
       "<keras.callbacks.History at 0x7f16906fae80>"
      ]
     },
     "execution_count": 8,
     "metadata": {},
     "output_type": "execute_result"
    }
   ],
   "source": [
    "# model = keras.models.Sequential([\n",
    "#     InputLayer(input_shape=(28, 28, 1)), \n",
    "#     Conv2D(6, (5, 5), padding='same'),\n",
    "#     MaxPooling2D(),\n",
    "#     Dropout(0.7),\n",
    "#     Conv2D(16, (5, 5)),\n",
    "#     MaxPooling2D(),\n",
    "#     Dropout(0.7),\n",
    "#     Flatten(),\n",
    "#     Dense(120, activation='relu'),\n",
    "#     Dense(84, activation='relu'),\n",
    "#     Dense(10, activation='softmax')\n",
    "# ])\n",
    "\n",
    "model = keras.models.Sequential([\n",
    "    InputLayer(input_shape=(28, 28, 1), name='input'), \n",
    "    Flatten(name='flatten'),\n",
    "    Dense(10, activation='softmax', name='dense')\n",
    "])\n",
    "\n",
    "model.compile(\n",
    "    loss=keras.losses.sparse_categorical_crossentropy,\n",
    "    optimizer=keras.optimizers.Adadelta(),\n",
    "    metrics=[\n",
    "        'accuracy'\n",
    "    ]\n",
    ")\n",
    "\n",
    "model.fit(\n",
    "    train_x, \n",
    "    train_y,\n",
    "    batch_size=64, \n",
    "    epochs=10,\n",
    "    validation_split=0.2,\n",
    "    callbacks=[\n",
    "        keras.callbacks.TensorBoard(\n",
    "            log_dir='./logs/%d' % (pd.datetime.now().timestamp() * 1000), \n",
    "            histogram_freq=0, \n",
    "            write_graph=True, \n",
    "            write_images=True\n",
    "        )\n",
    "    ]\n",
    ")"
   ]
  },
  {
   "cell_type": "code",
   "execution_count": 14,
   "metadata": {
    "scrolled": true
   },
   "outputs": [
    {
     "name": "stdout",
     "output_type": "stream",
     "text": [
      "loss: 0.31 accuracy: 91.07%\n"
     ]
    }
   ],
   "source": [
    "loss, accuracy = model.test_on_batch(test_x, test_y)\n",
    "print(\"loss: %.2f accuracy: %.2f%%\" % (loss, accuracy*100))"
   ]
  },
  {
   "cell_type": "code",
   "execution_count": 15,
   "metadata": {},
   "outputs": [],
   "source": [
    "sudoku = (255 - plt.imread('./static/sudoku.jpg').mean(axis=2) )"
   ]
  },
  {
   "cell_type": "code",
   "execution_count": 16,
   "metadata": {},
   "outputs": [
    {
     "data": {
      "text/plain": [
       "<matplotlib.image.AxesImage at 0x7f168f343828>"
      ]
     },
     "execution_count": 16,
     "metadata": {},
     "output_type": "execute_result"
    },
    {
     "data": {
      "image/png": "[encoded data removed]",
      "text/plain": [
       "<matplotlib.figure.Figure at 0x7f168f435dd8>"
      ]
     },
     "metadata": {},
     "output_type": "display_data"
    }
   ],
   "source": [
    "plt.imshow(sudoku, cmap='binary')"
   ]
  },
  {
   "cell_type": "code",
   "execution_count": 17,
   "metadata": {},
   "outputs": [],
   "source": [
    "def test_model_on_sudoku_puzzle(model, sudoku_puzzle):\n",
    "    # down-sample to fit model expectations\n",
    "    sudoku_tensor = resize(sudoku, (28*9, 28*9)).reshape((1, 252, 252, 1))\n",
    "    \n",
    "    #build map of predictions\n",
    "    prediction_map = np.zeros((1, 252, 252, 10))\n",
    "    for x in range(0, 252, 28):\n",
    "        for y in range(0, 252, 28):\n",
    "            view = sudoku_tensor[:,x:x+28, y:y+28,:]\n",
    "            predictions = model.predict_proba(view, verbose=False).reshape((10))\n",
    "            for i in range(0, 10):\n",
    "                prediction_map[0,x:x+28, y:y+28,i] = predictions[i]\n",
    "    prediction_map.resize((252, 252, 10))\n",
    "    return prediction_map\n",
    "    \n",
    "def plot_sudoku_predictions(prediction_map, digit):\n",
    "    plt.rcParams['figure.figsize'] = (8, 8)\n",
    "    plt.grid(True, color='black')\n",
    "    plt.xticks(range(0, 28*9, 28))\n",
    "    plt.yticks(range(0, 28*9, 28))\n",
    "    plt.imshow(prediction_map[:,:,digit], cmap='binary')\n",
    "    "
   ]
  },
  {
   "cell_type": "code",
   "execution_count": 18,
   "metadata": {},
   "outputs": [
    {
     "name": "stderr",
     "output_type": "stream",
     "text": [
      "/opt/conda/lib/python3.6/site-packages/skimage/transform/_warps.py:84: UserWarning: The default mode, 'constant', will be changed to 'reflect' in skimage 0.15.\n",
      "  warn(\"The default mode, 'constant', will be changed to 'reflect' in \"\n"
     ]
    },
    {
     "data": {
      "image/png": "[encoded data removed]",
      "text/plain": [
       "<matplotlib.figure.Figure at 0x7f168f3fba20>"
      ]
     },
     "metadata": {},
     "output_type": "display_data"
    }
   ],
   "source": [
    "prediction_map = test_model_on_sudoku_puzzle(model, sudoku)\n",
    "plot_sudoku_predictions(prediction_map, 4)"
   ]
  },
  {
   "cell_type": "code",
   "execution_count": null,
   "metadata": {},
   "outputs": [],
   "source": []
  }
 ],
 "metadata": {
  "kernelspec": {
   "display_name": "Python 3",
   "language": "python",
   "name": "python3"
  },
  "language_info": {
   "codemirror_mode": {
    "name": "ipython",
    "version": 3
   },
   "file_extension": ".py",
   "mimetype": "text/x-python",
   "name": "python",
   "nbconvert_exporter": "python",
   "pygments_lexer": "ipython3",
   "version": "3.6.2"
  }
 },
 "nbformat": 4,
 "nbformat_minor": 2
}
